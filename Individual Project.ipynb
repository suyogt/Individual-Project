{
 "cells": [
  {
   "cell_type": "code",
   "execution_count": 19,
   "metadata": {},
   "outputs": [
    {
     "data": {
      "text/html": [
       "<div>\n",
       "<style scoped>\n",
       "    .dataframe tbody tr th:only-of-type {\n",
       "        vertical-align: middle;\n",
       "    }\n",
       "\n",
       "    .dataframe tbody tr th {\n",
       "        vertical-align: top;\n",
       "    }\n",
       "\n",
       "    .dataframe thead th {\n",
       "        text-align: right;\n",
       "    }\n",
       "</style>\n",
       "<table border=\"1\" class=\"dataframe\">\n",
       "  <thead>\n",
       "    <tr style=\"text-align: right;\">\n",
       "      <th></th>\n",
       "      <th>Fname</th>\n",
       "      <th>Lname</th>\n",
       "      <th>Gender</th>\n",
       "      <th>Hours Worked</th>\n",
       "      <th>SalesTraining</th>\n",
       "      <th>Years Experience</th>\n",
       "      <th>Cars Sold</th>\n",
       "    </tr>\n",
       "  </thead>\n",
       "  <tbody>\n",
       "    <tr>\n",
       "      <th>0</th>\n",
       "      <td>Jada</td>\n",
       "      <td>Walters</td>\n",
       "      <td>F</td>\n",
       "      <td>39</td>\n",
       "      <td>N</td>\n",
       "      <td>3</td>\n",
       "      <td>2</td>\n",
       "    </tr>\n",
       "    <tr>\n",
       "      <th>1</th>\n",
       "      <td>Nicole</td>\n",
       "      <td>Henderson</td>\n",
       "      <td>F</td>\n",
       "      <td>46</td>\n",
       "      <td>N</td>\n",
       "      <td>3</td>\n",
       "      <td>6</td>\n",
       "    </tr>\n",
       "    <tr>\n",
       "      <th>2</th>\n",
       "      <td>Tanya</td>\n",
       "      <td>Moore</td>\n",
       "      <td>F</td>\n",
       "      <td>42</td>\n",
       "      <td>Y</td>\n",
       "      <td>4</td>\n",
       "      <td>6</td>\n",
       "    </tr>\n",
       "    <tr>\n",
       "      <th>3</th>\n",
       "      <td>Ronelle</td>\n",
       "      <td>Jackson</td>\n",
       "      <td>F</td>\n",
       "      <td>38</td>\n",
       "      <td>Y</td>\n",
       "      <td>5</td>\n",
       "      <td>3</td>\n",
       "    </tr>\n",
       "    <tr>\n",
       "      <th>4</th>\n",
       "      <td>Brad</td>\n",
       "      <td>Sears</td>\n",
       "      <td>M</td>\n",
       "      <td>33</td>\n",
       "      <td>N</td>\n",
       "      <td>4</td>\n",
       "      <td>2</td>\n",
       "    </tr>\n",
       "  </tbody>\n",
       "</table>\n",
       "</div>"
      ],
      "text/plain": [
       "     Fname      Lname Gender  Hours Worked SalesTraining  Years Experience  \\\n",
       "0     Jada   Walters       F            39             N                 3   \n",
       "1   Nicole  Henderson      F            46             N                 3   \n",
       "2    Tanya      Moore      F            42             Y                 4   \n",
       "3  Ronelle    Jackson      F            38             Y                 5   \n",
       "4     Brad      Sears      M            33             N                 4   \n",
       "\n",
       "   Cars Sold  \n",
       "0          2  \n",
       "1          6  \n",
       "2          6  \n",
       "3          3  \n",
       "4          2  "
      ]
     },
     "execution_count": 19,
     "metadata": {},
     "output_type": "execute_result"
    }
   ],
   "source": [
    "import pandas as pd\n",
    "import numpy as np\n",
    "data=pd.read_csv(\"C:/Users/Suyog Thengale/Desktop/datasets/axisdata.csv\")\n",
    "data.head()"
   ]
  },
  {
   "cell_type": "code",
   "execution_count": 3,
   "metadata": {},
   "outputs": [
    {
     "name": "stdout",
     "output_type": "stream",
     "text": [
      "Average cars sold per month are 3.9229229229229228\n"
     ]
    }
   ],
   "source": [
    "car_sold=data[\"Cars Sold\"]\n",
    "avg_car_sold=np.mean(car_sold)\n",
    "print(\"Average cars sold per month are\",avg_car_sold)"
   ]
  },
  {
   "cell_type": "code",
   "execution_count": 4,
   "metadata": {},
   "outputs": [
    {
     "name": "stdout",
     "output_type": "stream",
     "text": [
      "Maximum cars sold per month are 7\n"
     ]
    }
   ],
   "source": [
    "max_car=max(car_sold)\n",
    "print(\"Maximum cars sold per month are\",max_car)"
   ]
  },
  {
   "cell_type": "code",
   "execution_count": 5,
   "metadata": {},
   "outputs": [
    {
     "name": "stdout",
     "output_type": "stream",
     "text": [
      "Minimum cars sold per month are 1\n"
     ]
    }
   ],
   "source": [
    "min_car=min(car_sold)\n",
    "print(\"Minimum cars sold per month are\",min_car)"
   ]
  },
  {
   "cell_type": "code",
   "execution_count": 6,
   "metadata": {},
   "outputs": [
    {
     "name": "stdout",
     "output_type": "stream",
     "text": [
      "Average cars sold by gender = male is 4.078431372549019\n",
      "Average cars sold by gender = female is 3.7607361963190185\n"
     ]
    }
   ],
   "source": [
    "male_car_sold=data[data[\"Gender\"]==\"M\"][\"Cars Sold\"]\n",
    "avg=np.mean(male_car_sold)\n",
    "print(\"Average cars sold by gender = male is\",avg)\n",
    "female_car_sold=data[data[\"Gender\"]==\"F\"][\"Cars Sold\"]\n",
    "avg1=np.mean(female_car_sold)\n",
    "print(\"Average cars sold by gender = female is\",avg1)"
   ]
  },
  {
   "cell_type": "code",
   "execution_count": 7,
   "metadata": {},
   "outputs": [
    {
     "name": "stdout",
     "output_type": "stream",
     "text": [
      "Average hours worked by people selling more than 3 cars per month 34.740237691001695\n"
     ]
    }
   ],
   "source": [
    "hours_worked=data[data[\"Cars Sold\"]>3][\"Hours Worked\"]\n",
    "avg_hours_worked=np.mean(hours_worked)\n",
    "print(\"Average hours worked by people selling more than 3 cars per month\",avg_hours_worked)"
   ]
  },
  {
   "cell_type": "code",
   "execution_count": 8,
   "metadata": {},
   "outputs": [
    {
     "name": "stdout",
     "output_type": "stream",
     "text": [
      "Average years of experience is 3.026026026026026\n"
     ]
    }
   ],
   "source": [
    "exp=data[\"Years Experience\"]\n",
    "avg_exp=np.mean(exp)\n",
    "print(\"Average years of experience is\",avg_exp)"
   ]
  },
  {
   "cell_type": "code",
   "execution_count": 9,
   "metadata": {},
   "outputs": [
    {
     "name": "stdout",
     "output_type": "stream",
     "text": [
      "Average hours worked by people selling more than 3 cars per month 3.0492359932088284\n"
     ]
    }
   ],
   "source": [
    "exp=data[data[\"Cars Sold\"]>3][\"Years Experience\"]\n",
    "avg_exp=np.mean(exp)\n",
    "print(\"Average hours worked by people selling more than 3 cars per month\",avg_exp)"
   ]
  },
  {
   "cell_type": "code",
   "execution_count": 10,
   "metadata": {},
   "outputs": [
    {
     "name": "stdout",
     "output_type": "stream",
     "text": [
      "Average cars sold per month when they do not have training 3.5738498789346247\n",
      "Average cars sold per month when they have training 4.1689419795221845\n"
     ]
    }
   ],
   "source": [
    "cars=data[data[\"SalesTraining\"]==\"N\"][\"Cars Sold\"]\n",
    "avg_cars=np.mean(cars)\n",
    "print(\"Average cars sold per month when they do not have training\",avg_cars)\n",
    "cars1=data[data[\"SalesTraining\"]==\"Y\"][\"Cars Sold\"]\n",
    "avg_cars_yes=np.mean(cars1)\n",
    "print(\"Average cars sold per month when they have training\",avg_cars_yes)"
   ]
  },
  {
   "cell_type": "code",
   "execution_count": 25,
   "metadata": {},
   "outputs": [
    {
     "data": {
      "text/plain": [
       "array([[<matplotlib.axes._subplots.AxesSubplot object at 0x0000020DCEBF43A0>,\n",
       "        <matplotlib.axes._subplots.AxesSubplot object at 0x0000020DCEC438B0>],\n",
       "       [<matplotlib.axes._subplots.AxesSubplot object at 0x0000020DCEC70D00>,\n",
       "        <matplotlib.axes._subplots.AxesSubplot object at 0x0000020DCECAB1C0>]],\n",
       "      dtype=object)"
      ]
     },
     "execution_count": 25,
     "metadata": {},
     "output_type": "execute_result"
    },
    {
     "data": {
      "image/png": "[encoded data removed]",
      "text/plain": [
       "<Figure size 432x288 with 4 Axes>"
      ]
     },
     "metadata": {
      "needs_background": "light"
     },
     "output_type": "display_data"
    }
   ],
   "source": [
    "import matplotlib.pyplot as plt\n",
    "get_ipython().run_line_magic('matplotlib', 'inline')\n",
    "Location = \"C:/Users/Suyog Thengale/Desktop/datasets/axisdata.csv\"\n",
    "df = pd.read_csv(Location)\n",
    "df.hist()"
   ]
  },
  {
   "cell_type": "code",
   "execution_count": 30,
   "metadata": {},
   "outputs": [
    {
     "data": {
      "image/png": "[encoded data removed]",
      "text/plain": [
       "<Figure size 240x240 with 1 Axes>"
      ]
     },
     "metadata": {
      "needs_background": "light"
     },
     "output_type": "display_data"
    }
   ],
   "source": [
    "plt.figure(figsize=(3,3),dpi=80)\n",
    "x=data[\"SalesTraining\"]\n",
    "y=data[\"Cars Sold\"]\n",
    "plt.bar(x,y,color=\"green\")\n",
    "plt.xlabel(\"Sales Training\")\n",
    "plt.ylabel(\"Cars sold\")\n",
    "plt.title(\"Bar plot\")\n",
    "plt.show()"
   ]
  },
  {
   "cell_type": "code",
   "execution_count": null,
   "metadata": {},
   "outputs": [],
   "source": []
  }
 ],
 "metadata": {
  "kernelspec": {
   "display_name": "Python 3",
   "language": "python",
   "name": "python3"
  },
  "language_info": {
   "codemirror_mode": {
    "name": "ipython",
    "version": 3
   },
   "file_extension": ".py",
   "mimetype": "text/x-python",
   "name": "python",
   "nbconvert_exporter": "python",
   "pygments_lexer": "ipython3",
   "version": "3.8.3"
  }
 },
 "nbformat": 4,
 "nbformat_minor": 4
}
